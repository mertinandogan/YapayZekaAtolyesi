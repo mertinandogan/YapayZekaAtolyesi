{
 "cells": [
  {
   "cell_type": "code",
   "execution_count": 1,
   "metadata": {
    "colab": {
     "base_uri": "https://localhost:8080/"
    },
    "executionInfo": {
     "elapsed": 24492,
     "status": "ok",
     "timestamp": 1655361549477,
     "user": {
      "displayName": "ÇİĞDEM ŞERİFOĞLU",
      "userId": "02563520724210740537"
     },
     "user_tz": -180
    },
    "id": "mqGVVDzy8aO3",
    "outputId": "0f06b5a9-4521-4167-83fb-edb4cb795444"
   },
   "outputs": [
    {
     "name": "stdout",
     "output_type": "stream",
     "text": [
      "Mounted at /content/drive/\n",
      "/content\n",
      "drive  sample_data\n"
     ]
    }
   ],
   "source": [
    "from google.colab import drive \n",
    "drive.mount('/content/drive/')\n",
    "!ls\n"
   ]
  },
  {
   "cell_type": "code",
   "execution_count": 2,
   "metadata": {
    "colab": {
     "base_uri": "https://localhost:8080/"
    },
    "executionInfo": {
     "elapsed": 507,
     "status": "ok",
     "timestamp": 1655361549965,
     "user": {
      "displayName": "ÇİĞDEM ŞERİFOĞLU",
      "userId": "02563520724210740537"
     },
     "user_tz": -180
    },
    "id": "bRTyzOWZ8nVa",
    "outputId": "d7a7abf3-c775-4653-ad3f-0b28ba3bd30b"
   },
   "outputs": [
    {
     "name": "stdout",
     "output_type": "stream",
     "text": [
      " decision_tree.log\t\t   kmeans_ornek.ipynb\n",
      " decision_tree.png\t\t  'Makine Öğrenmesi_AEY.ipynb'\n",
      " DecisionTreeVisualization.ipynb   TumorVerisi.xlsx\n",
      " download.xls\t\t\t   ugulama1.ipynb\n",
      " downloady.xls\n"
     ]
    }
   ],
   "source": [
    "import os\n",
    "os.chdir(\"/content/drive/MyDrive/yapay_zeka\")\n"
   ]
  },
  {
   "cell_type": "code",
   "execution_count": 3,
   "metadata": {
    "executionInfo": {
     "elapsed": 451,
     "status": "ok",
     "timestamp": 1655361552667,
     "user": {
      "displayName": "ÇİĞDEM ŞERİFOĞLU",
      "userId": "02563520724210740537"
     },
     "user_tz": -180
    },
    "id": "fYkhH0Bd9eoI"
   },
   "outputs": [],
   "source": [
    "import pandas as pd\n",
    "import matplotlib.pyplot as plt\n",
    "import numpy as np"
   ]
  },
  {
   "cell_type": "code",
   "execution_count": 7,
   "metadata": {
    "colab": {
     "base_uri": "https://localhost:8080/",
     "height": 206
    },
    "executionInfo": {
     "elapsed": 517,
     "status": "ok",
     "timestamp": 1655361897591,
     "user": {
      "displayName": "ÇİĞDEM ŞERİFOĞLU",
      "userId": "02563520724210740537"
     },
     "user_tz": -180
    },
    "id": "5ReioOjj84Y9",
    "outputId": "99d1c294-dd93-4d95-c741-34eac4b9bfd0"
   },
   "outputs": [
    {
     "data": {
      "text/html": [
       "\n",
       "  <div id=\"df-3f7767af-c16f-4a09-a51c-96fa6bb84325\">\n",
       "    <div class=\"colab-df-container\">\n",
       "      <div>\n",
       "<style scoped>\n",
       "    .dataframe tbody tr th:only-of-type {\n",
       "        vertical-align: middle;\n",
       "    }\n",
       "\n",
       "    .dataframe tbody tr th {\n",
       "        vertical-align: top;\n",
       "    }\n",
       "\n",
       "    .dataframe thead th {\n",
       "        text-align: right;\n",
       "    }\n",
       "</style>\n",
       "<table border=\"1\" class=\"dataframe\">\n",
       "  <thead>\n",
       "    <tr style=\"text-align: right;\">\n",
       "      <th></th>\n",
       "      <th>Hasta ID</th>\n",
       "      <th>Tümör Yarıçapı (mm)</th>\n",
       "      <th>Tümör Hacmi (mm3)</th>\n",
       "      <th>Bağ Dokusu (Yok = 0; Var = 1)</th>\n",
       "      <th>Diferansiasyon Hızı (mm/yıl)</th>\n",
       "      <th>Etiket (İyi Huylu = 0; Kötü Huylu = 1)</th>\n",
       "    </tr>\n",
       "  </thead>\n",
       "  <tbody>\n",
       "    <tr>\n",
       "      <th>0</th>\n",
       "      <td>1</td>\n",
       "      <td>102.0</td>\n",
       "      <td>4.441814e+06</td>\n",
       "      <td>1</td>\n",
       "      <td>0.229958</td>\n",
       "      <td>1</td>\n",
       "    </tr>\n",
       "    <tr>\n",
       "      <th>1</th>\n",
       "      <td>2</td>\n",
       "      <td>79.0</td>\n",
       "      <td>2.063676e+06</td>\n",
       "      <td>0</td>\n",
       "      <td>12.757216</td>\n",
       "      <td>1</td>\n",
       "    </tr>\n",
       "    <tr>\n",
       "      <th>2</th>\n",
       "      <td>3</td>\n",
       "      <td>8.0</td>\n",
       "      <td>2.143569e+03</td>\n",
       "      <td>1</td>\n",
       "      <td>8.317290</td>\n",
       "      <td>0</td>\n",
       "    </tr>\n",
       "    <tr>\n",
       "      <th>3</th>\n",
       "      <td>4</td>\n",
       "      <td>46.0</td>\n",
       "      <td>4.074118e+05</td>\n",
       "      <td>1</td>\n",
       "      <td>6.818729</td>\n",
       "      <td>1</td>\n",
       "    </tr>\n",
       "    <tr>\n",
       "      <th>4</th>\n",
       "      <td>5</td>\n",
       "      <td>18.0</td>\n",
       "      <td>2.441131e+04</td>\n",
       "      <td>1</td>\n",
       "      <td>2.802301</td>\n",
       "      <td>0</td>\n",
       "    </tr>\n",
       "  </tbody>\n",
       "</table>\n",
       "</div>\n",
       "      <button class=\"colab-df-convert\" onclick=\"convertToInteractive('df-3f7767af-c16f-4a09-a51c-96fa6bb84325')\"\n",
       "              title=\"Convert this dataframe to an interactive table.\"\n",
       "              style=\"display:none;\">\n",
       "        \n",
       "  <svg xmlns=\"http://www.w3.org/2000/svg\" height=\"24px\"viewBox=\"0 0 24 24\"\n",
       "       width=\"24px\">\n",
       "    <path d=\"M0 0h24v24H0V0z\" fill=\"none\"/>\n",
       "    <path d=\"M18.56 5.44l.94 2.06.94-2.06 2.06-.94-2.06-.94-.94-2.06-.94 2.06-2.06.94zm-11 1L8.5 8.5l.94-2.06 2.06-.94-2.06-.94L8.5 2.5l-.94 2.06-2.06.94zm10 10l.94 2.06.94-2.06 2.06-.94-2.06-.94-.94-2.06-.94 2.06-2.06.94z\"/><path d=\"M17.41 7.96l-1.37-1.37c-.4-.4-.92-.59-1.43-.59-.52 0-1.04.2-1.43.59L10.3 9.45l-7.72 7.72c-.78.78-.78 2.05 0 2.83L4 21.41c.39.39.9.59 1.41.59.51 0 1.02-.2 1.41-.59l7.78-7.78 2.81-2.81c.8-.78.8-2.07 0-2.86zM5.41 20L4 18.59l7.72-7.72 1.47 1.35L5.41 20z\"/>\n",
       "  </svg>\n",
       "      </button>\n",
       "      \n",
       "  <style>\n",
       "    .colab-df-container {\n",
       "      display:flex;\n",
       "      flex-wrap:wrap;\n",
       "      gap: 12px;\n",
       "    }\n",
       "\n",
       "    .colab-df-convert {\n",
       "      background-color: #E8F0FE;\n",
       "      border: none;\n",
       "      border-radius: 50%;\n",
       "      cursor: pointer;\n",
       "      display: none;\n",
       "      fill: #1967D2;\n",
       "      height: 32px;\n",
       "      padding: 0 0 0 0;\n",
       "      width: 32px;\n",
       "    }\n",
       "\n",
       "    .colab-df-convert:hover {\n",
       "      background-color: #E2EBFA;\n",
       "      box-shadow: 0px 1px 2px rgba(60, 64, 67, 0.3), 0px 1px 3px 1px rgba(60, 64, 67, 0.15);\n",
       "      fill: #174EA6;\n",
       "    }\n",
       "\n",
       "    [theme=dark] .colab-df-convert {\n",
       "      background-color: #3B4455;\n",
       "      fill: #D2E3FC;\n",
       "    }\n",
       "\n",
       "    [theme=dark] .colab-df-convert:hover {\n",
       "      background-color: #434B5C;\n",
       "      box-shadow: 0px 1px 3px 1px rgba(0, 0, 0, 0.15);\n",
       "      filter: drop-shadow(0px 1px 2px rgba(0, 0, 0, 0.3));\n",
       "      fill: #FFFFFF;\n",
       "    }\n",
       "  </style>\n",
       "\n",
       "      <script>\n",
       "        const buttonEl =\n",
       "          document.querySelector('#df-3f7767af-c16f-4a09-a51c-96fa6bb84325 button.colab-df-convert');\n",
       "        buttonEl.style.display =\n",
       "          google.colab.kernel.accessAllowed ? 'block' : 'none';\n",
       "\n",
       "        async function convertToInteractive(key) {\n",
       "          const element = document.querySelector('#df-3f7767af-c16f-4a09-a51c-96fa6bb84325');\n",
       "          const dataTable =\n",
       "            await google.colab.kernel.invokeFunction('convertToInteractive',\n",
       "                                                     [key], {});\n",
       "          if (!dataTable) return;\n",
       "\n",
       "          const docLinkHtml = 'Like what you see? Visit the ' +\n",
       "            '<a target=\"_blank\" href=https://colab.research.google.com/notebooks/data_table.ipynb>data table notebook</a>'\n",
       "            + ' to learn more about interactive tables.';\n",
       "          element.innerHTML = '';\n",
       "          dataTable['output_type'] = 'display_data';\n",
       "          await google.colab.output.renderOutput(dataTable, element);\n",
       "          const docLink = document.createElement('div');\n",
       "          docLink.innerHTML = docLinkHtml;\n",
       "          element.appendChild(docLink);\n",
       "        }\n",
       "      </script>\n",
       "    </div>\n",
       "  </div>\n",
       "  "
      ],
      "text/plain": [
       "   Hasta ID  Tümör Yarıçapı (mm)  Tümör Hacmi (mm3)  \\\n",
       "0         1                102.0       4.441814e+06   \n",
       "1         2                 79.0       2.063676e+06   \n",
       "2         3                  8.0       2.143569e+03   \n",
       "3         4                 46.0       4.074118e+05   \n",
       "4         5                 18.0       2.441131e+04   \n",
       "\n",
       "   Bağ Dokusu (Yok = 0; Var = 1)  Diferansiasyon Hızı (mm/yıl)  \\\n",
       "0                              1                      0.229958   \n",
       "1                              0                     12.757216   \n",
       "2                              1                      8.317290   \n",
       "3                              1                      6.818729   \n",
       "4                              1                      2.802301   \n",
       "\n",
       "   Etiket (İyi Huylu = 0; Kötü Huylu = 1)  \n",
       "0                                       1  \n",
       "1                                       1  \n",
       "2                                       0  \n",
       "3                                       1  \n",
       "4                                       0  "
      ]
     },
     "execution_count": 7,
     "metadata": {},
     "output_type": "execute_result"
    }
   ],
   "source": [
    "df = pd.read_excel(r'TumorVerisi.xlsx')\n",
    "df.head()"
   ]
  },
  {
   "cell_type": "code",
   "execution_count": 11,
   "metadata": {
    "executionInfo": {
     "elapsed": 361,
     "status": "ok",
     "timestamp": 1655361958032,
     "user": {
      "displayName": "ÇİĞDEM ŞERİFOĞLU",
      "userId": "02563520724210740537"
     },
     "user_tz": -180
    },
    "id": "lSC2Fk6fQHOK"
   },
   "outputs": [],
   "source": [
    "C=df['Tümör Yarıçapı (mm)']\n",
    "H=df['Tümör Hacmi (mm3)']\n",
    "Hız=df['Diferansiasyon Hızı (mm/yıl)']"
   ]
  },
  {
   "cell_type": "code",
   "execution_count": 10,
   "metadata": {
    "colab": {
     "base_uri": "https://localhost:8080/",
     "height": 295
    },
    "executionInfo": {
     "elapsed": 805,
     "status": "ok",
     "timestamp": 1655361929266,
     "user": {
      "displayName": "ÇİĞDEM ŞERİFOĞLU",
      "userId": "02563520724210740537"
     },
     "user_tz": -180
    },
    "id": "mnFulatZP5yM",
    "outputId": "1c785def-4254-4c66-f2ef-fdba6b0cf419"
   },
   "outputs": [
    {
     "data": {
      "image/png": "[encoded data removed]",
      "text/plain": [
       "<Figure size 432x288 with 1 Axes>"
      ]
     },
     "metadata": {
      "needs_background": "light"
     },
     "output_type": "display_data"
    }
   ],
   "source": [
    "plt.scatter(C,H)\n",
    "plt.xlabel(\"Tümör Yarıçapı (mm)\")\n",
    "plt.ylabel(\"Tümör Hacmi\")\n",
    "plt.title(\"Çap-Hacim\")\n",
    "plt.grid(True)\n",
    "plt.show()"
   ]
  },
  {
   "cell_type": "code",
   "execution_count": 12,
   "metadata": {
    "colab": {
     "base_uri": "https://localhost:8080/",
     "height": 295
    },
    "executionInfo": {
     "elapsed": 741,
     "status": "ok",
     "timestamp": 1655361995623,
     "user": {
      "displayName": "ÇİĞDEM ŞERİFOĞLU",
      "userId": "02563520724210740537"
     },
     "user_tz": -180
    },
    "id": "w52wBiJOQxuj",
    "outputId": "1f644b14-3a4a-4b8d-9056-1ce583e0ee7f"
   },
   "outputs": [
    {
     "data": {
      "image/png": "[encoded data removed]",
      "text/plain": [
       "<Figure size 432x288 with 1 Axes>"
      ]
     },
     "metadata": {
      "needs_background": "light"
     },
     "output_type": "display_data"
    }
   ],
   "source": [
    "plt.scatter(C,Hız)\n",
    "plt.xlabel(\"Tümör Yarıçapı (mm)\")\n",
    "plt.ylabel(\"Diferansiasyon Hızı\")\n",
    "plt.title(\"Çap-Hız\")\n",
    "plt.grid(True)\n",
    "plt.show()"
   ]
  },
  {
   "cell_type": "code",
   "execution_count": 13,
   "metadata": {
    "colab": {
     "base_uri": "https://localhost:8080/",
     "height": 295
    },
    "executionInfo": {
     "elapsed": 1351,
     "status": "ok",
     "timestamp": 1655362102081,
     "user": {
      "displayName": "ÇİĞDEM ŞERİFOĞLU",
      "userId": "02563520724210740537"
     },
     "user_tz": -180
    },
    "id": "lHxr9oqFRHqL",
    "outputId": "bddce776-bfe9-43c5-952b-f1b76751c3dd"
   },
   "outputs": [
    {
     "data": {
      "image/png": "[encoded data removed]",
      "text/plain": [
       "<Figure size 432x288 with 1 Axes>"
      ]
     },
     "metadata": {
      "needs_background": "light"
     },
     "output_type": "display_data"
    }
   ],
   "source": [
    "plt.scatter(H,Hız)\n",
    "plt.xlabel(\"Tümör Hacmi (mm)\")\n",
    "plt.ylabel(\"Diferansiasyon Hızı\")\n",
    "plt.title(\"Hacim-Hız\")\n",
    "plt.grid(True)\n",
    "plt.show()"
   ]
  },
  {
   "cell_type": "code",
   "execution_count": 15,
   "metadata": {
    "executionInfo": {
     "elapsed": 9,
     "status": "ok",
     "timestamp": 1655362250154,
     "user": {
      "displayName": "ÇİĞDEM ŞERİFOĞLU",
      "userId": "02563520724210740537"
     },
     "user_tz": -180
    },
    "id": "X_uOuqbDRrgT"
   },
   "outputs": [],
   "source": [
    "y = df[\"Etiket (İyi Huylu = 0; Kötü Huylu = 1)\"].values \n",
    "x_data = df.drop([\"Etiket (İyi Huylu = 0; Kötü Huylu = 1)\"],axis=1) "
   ]
  },
  {
   "cell_type": "code",
   "execution_count": 45,
   "metadata": {
    "executionInfo": {
     "elapsed": 497,
     "status": "ok",
     "timestamp": 1655363891038,
     "user": {
      "displayName": "ÇİĞDEM ŞERİFOĞLU",
      "userId": "02563520724210740537"
     },
     "user_tz": -180
    },
    "id": "Ns-G7vLESnwa"
   },
   "outputs": [],
   "source": [
    "\n",
    "mean_value=x_data['Tümör Yarıçapı (mm)'].mean()\n",
    "  \n",
    "x_data['Tümör Yarıçapı (mm)'].fillna(value=mean_value, inplace=True)"
   ]
  },
  {
   "cell_type": "code",
   "execution_count": 46,
   "metadata": {
    "executionInfo": {
     "elapsed": 10,
     "status": "ok",
     "timestamp": 1655363929253,
     "user": {
      "displayName": "ÇİĞDEM ŞERİFOĞLU",
      "userId": "02563520724210740537"
     },
     "user_tz": -180
    },
    "id": "gFpDNYayYKAL"
   },
   "outputs": [],
   "source": [
    "mean_value=x_data['Tümör Hacmi (mm3)'].mean()\n",
    "  \n",
    "x_data['Tümör Hacmi (mm3)'].fillna(value=mean_value, inplace=True)"
   ]
  },
  {
   "cell_type": "code",
   "execution_count": 47,
   "metadata": {
    "executionInfo": {
     "elapsed": 10,
     "status": "ok",
     "timestamp": 1655363953866,
     "user": {
      "displayName": "ÇİĞDEM ŞERİFOĞLU",
      "userId": "02563520724210740537"
     },
     "user_tz": -180
    },
    "id": "yd6G4HzDR5hK"
   },
   "outputs": [],
   "source": [
    "# normalizasyon\n",
    "x = (x_data - np.min(x_data))/(np.max(x_data)-np.min(x_data))"
   ]
  },
  {
   "cell_type": "code",
   "execution_count": 48,
   "metadata": {
    "executionInfo": {
     "elapsed": 7,
     "status": "ok",
     "timestamp": 1655363956937,
     "user": {
      "displayName": "ÇİĞDEM ŞERİFOĞLU",
      "userId": "02563520724210740537"
     },
     "user_tz": -180
    },
    "id": "WB1oKPmzR_Q4"
   },
   "outputs": [],
   "source": [
    "\n",
    "from sklearn.model_selection import train_test_split\n",
    "x_train, x_test, y_train, y_test = train_test_split(x,y,test_size = 0.15,random_state=1)"
   ]
  },
  {
   "cell_type": "code",
   "execution_count": 49,
   "metadata": {
    "colab": {
     "base_uri": "https://localhost:8080/"
    },
    "executionInfo": {
     "elapsed": 432,
     "status": "ok",
     "timestamp": 1655363959528,
     "user": {
      "displayName": "ÇİĞDEM ŞERİFOĞLU",
      "userId": "02563520724210740537"
     },
     "user_tz": -180
    },
    "id": "ousJWRfUSFtY",
    "outputId": "213d67bc-a9f7-41be-beab-2d9e6c272410"
   },
   "outputs": [
    {
     "name": "stdout",
     "output_type": "stream",
     "text": [
      "Rastgele Orman Modeli Test Doğruluk: 0.9666666666666667 \n"
     ]
    }
   ],
   "source": [
    "from sklearn.ensemble import RandomForestClassifier\n",
    "\n",
    "rf = RandomForestClassifier(n_estimators = 100,random_state = 1) \n",
    "rf.fit(x_train,y_train)\n",
    "\n",
    "print(\"Rastgele Orman Modeli Test Doğruluk: {} \".format(rf.score(x_test,y_test)))"
   ]
  },
  {
   "cell_type": "code",
   "execution_count": 51,
   "metadata": {
    "colab": {
     "base_uri": "https://localhost:8080/"
    },
    "executionInfo": {
     "elapsed": 460,
     "status": "ok",
     "timestamp": 1655364139214,
     "user": {
      "displayName": "ÇİĞDEM ŞERİFOĞLU",
      "userId": "02563520724210740537"
     },
     "user_tz": -180
    },
    "id": "GFIIQqsDYZ7U",
    "outputId": "c5c1039a-cb90-4087-8e78-aa14dfbe50e6"
   },
   "outputs": [
    {
     "name": "stdout",
     "output_type": "stream",
     "text": [
      " 2 En Yakın Komşu Modeli Test Doğruluk: 0.9666666666666667 \n"
     ]
    }
   ],
   "source": [
    "from sklearn.neighbors import KNeighborsClassifier\n",
    "komsu_sayisi = 2\n",
    "knn = KNeighborsClassifier(n_neighbors = komsu_sayisi) \n",
    "knn.fit(x_train,y_train)\n",
    "\n",
    "prediction = knn.predict(x_test)\n",
    "print(\" {} En Yakın Komşu Modeli Test Doğruluk: {} \".format(komsu_sayisi,knn.score(x_test,y_test)))"
   ]
  },
  {
   "cell_type": "code",
   "execution_count": 54,
   "metadata": {
    "colab": {
     "base_uri": "https://localhost:8080/"
    },
    "executionInfo": {
     "elapsed": 427,
     "status": "ok",
     "timestamp": 1655365016644,
     "user": {
      "displayName": "ÇİĞDEM ŞERİFOĞLU",
      "userId": "02563520724210740537"
     },
     "user_tz": -180
    },
    "id": "g56p8i9yYosf",
    "outputId": "fba8a382-f678-47d1-f5ad-68494c1ef140"
   },
   "outputs": [
    {
     "data": {
      "text/plain": [
       "array([[16,  0],\n",
       "       [ 1, 13]])"
      ]
     },
     "execution_count": 54,
     "metadata": {},
     "output_type": "execute_result"
    }
   ],
   "source": [
    "from sklearn.metrics import confusion_matrix\n",
    "\n",
    "y_pred = knn.predict(x_test)\n",
    "con_m=confusion_matrix(y_test,y_pred)\n",
    "con_m"
   ]
  },
  {
   "cell_type": "code",
   "execution_count": null,
   "metadata": {
    "id": "7rrUBIIdcZeE"
   },
   "outputs": [],
   "source": []
  }
 ],
 "metadata": {
  "colab": {
   "authorship_tag": "ABX9TyMHNAPNlPenPKcBUa9UKCEg",
   "collapsed_sections": [],
   "name": "ugulama1.ipynb",
   "provenance": []
  },
  "kernelspec": {
   "display_name": "Python 3 (ipykernel)",
   "language": "python",
   "name": "python3"
  },
  "language_info": {
   "codemirror_mode": {
    "name": "ipython",
    "version": 3
   },
   "file_extension": ".py",
   "mimetype": "text/x-python",
   "name": "python",
   "nbconvert_exporter": "python",
   "pygments_lexer": "ipython3",
   "version": "3.9.7"
  }
 },
 "nbformat": 4,
 "nbformat_minor": 1
}
