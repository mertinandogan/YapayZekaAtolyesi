{
 "cells": [
  {
   "cell_type": "code",
   "execution_count": 1,
   "metadata": {},
   "outputs": [],
   "source": [
    "import numpy as np"
   ]
  },
  {
   "cell_type": "code",
   "execution_count": 41,
   "metadata": {},
   "outputs": [
    {
     "data": {
      "text/plain": [
       "array([[405,  45],\n",
       "       [365,  45]])"
      ]
     },
     "execution_count": 41,
     "metadata": {},
     "output_type": "execute_result"
    }
   ],
   "source": [
    "def apply_mask(ımg, kernel, index_x, index_y):\n",
    "    slice_ımg = ımg[index_y:index_y + len(kernel),index_x:index_x + len(kernel)]\n",
    "    return (slice_ımg * kernel).sum()\n",
    "\n",
    "def convolve(ımg, kernel):\n",
    "    _list = []\n",
    "    for i in range(len(ımg) - len(kernel) + 1):\n",
    "        for j in range(len(ımg) - len(kernel) + 1):\n",
    "            _list.append(apply_mask(ımg, kernel, j, i))\n",
    "    return np.array(_list).reshape(len(kernel),len(kernel))\n",
    "\n",
    "def relu(array):\n",
    "    return (np.maximum(0,array))            \n",
    "\n",
    "def max_pool(array):\n",
    "    _list = []\n",
    "    for i in range(len(array) - 1):\n",
    "        for j in range(len(array) - 1):\n",
    "            _list.append(max((array[i:i+2,j:j+2]).flatten()))\n",
    "    return np.array(_list).reshape(len(array)-1,len(array)-1)\n",
    "\n",
    "max_pool(relu(convolve(array,kernel)))"
   ]
  },
  {
   "cell_type": "code",
   "execution_count": 30,
   "metadata": {},
   "outputs": [
    {
     "data": {
      "text/plain": [
       "array([[ 405,   45, -380],\n",
       "       [ 365,   45, -340],\n",
       "       [ 310,   40, -280]])"
      ]
     },
     "execution_count": 30,
     "metadata": {},
     "output_type": "execute_result"
    }
   ],
   "source": [
    "array=np.array([[50,110,180,130,60],\n",
    "                [55,115,190,120,50],\n",
    "                [40,100,180,120,60],\n",
    "                [30,80,120,100,40],\n",
    "                [10,70,90,70,10]])\n",
    "\n",
    "kernel = np.array([[-1,0,1],[-1,0,1],[-1,0,1]])\n",
    "\n",
    "convolve(array, kernel)"
   ]
  },
  {
   "cell_type": "code",
   "execution_count": 10,
   "metadata": {},
   "outputs": [
    {
     "data": {
      "text/plain": [
       "array([[ 40, 100, 180],\n",
       "       [ 30,  80, 120],\n",
       "       [ 10,  70,  90]])"
      ]
     },
     "execution_count": 10,
     "metadata": {},
     "output_type": "execute_result"
    }
   ],
   "source": []
  },
  {
   "cell_type": "code",
   "execution_count": null,
   "metadata": {},
   "outputs": [],
   "source": []
  }
 ],
 "metadata": {
  "kernelspec": {
   "display_name": "Python 3",
   "language": "python",
   "name": "python3"
  },
  "language_info": {
   "codemirror_mode": {
    "name": "ipython",
    "version": 3
   },
   "file_extension": ".py",
   "mimetype": "text/x-python",
   "name": "python",
   "nbconvert_exporter": "python",
   "pygments_lexer": "ipython3",
   "version": "3.8.5"
  }
 },
 "nbformat": 4,
 "nbformat_minor": 4
}
