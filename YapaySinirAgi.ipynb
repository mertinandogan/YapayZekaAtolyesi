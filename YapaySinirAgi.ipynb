{
 "cells": [
  {
   "cell_type": "code",
   "execution_count": 1,
   "metadata": {
    "scrolled": false
   },
   "outputs": [
    {
     "name": "stdout",
     "output_type": "stream",
     "text": [
      "Başlangıçtaki Rastgele Sinaps Ağırlıkları: \n",
      "[[-0.16595599]\n",
      " [ 0.44064899]\n",
      " [-0.99977125]]\n",
      "Eğitimin Ardından Ağırlık Değerleri: \n",
      "[[ 5.13676857e+00]\n",
      " [-5.13676857e+00]\n",
      " [ 1.53041913e-16]]\n",
      "Kullanıcı Girdisi 1: 0\n",
      "Kullanıcı Girdisi 2: 0\n",
      "Kullanıcı Girdisi 3: 0\n",
      "Yeni Durum Ele Alınıyor:  0 0 0\n",
      "Yeni Çıktı: \n",
      "[0.5]\n",
      "Vay be, başardık!\n"
     ]
    }
   ],
   "source": [
    "import numpy as np\n",
    "\n",
    "class NeuralNetwork():\n",
    "    \n",
    "    def __init__(self):\n",
    "        # rastgele sayı üretimi için çekirdek oluştur\n",
    "        np.random.seed(1)\n",
    "        \n",
    "        # ağırlık değerleri için 0 ortalamalı, -1 ile 1 arasında 3x1'lik bir matris oluştur \n",
    "        self.synaptic_weights = 2 * np.random.random((3, 1)) - 1\n",
    "\n",
    "    def sigmoid(self, x):\n",
    "        # sigmoid fonksiyonu\n",
    "        return 1 / (1 + np.exp(-x))\n",
    "\n",
    "    def sigmoid_derivative(self, x):\n",
    "        # sigmoid fonksiyonunun türevi\n",
    "        return x * (1 - x)\n",
    "\n",
    "    def train(self, training_inputs, training_outputs, training_iterations):\n",
    "        \n",
    "        # eğitim ve ağırlıkları ayarlama süreci\n",
    "        for iteration in range(training_iterations):\n",
    "            # veriyi besle\n",
    "            output = self.think(training_inputs)\n",
    "\n",
    "            # geri yayılım esnasında hatayı hesapla\n",
    "            error = training_outputs - output\n",
    "            \n",
    "            # ağırlıkları ayarla\n",
    "            adjustments = np.dot(training_inputs.T, error * self.sigmoid_derivative(output))\n",
    "\n",
    "            self.synaptic_weights += adjustments\n",
    "\n",
    "    def think(self, inputs):\n",
    "        # girdileri nörona besleyerek çıktıyı elde et   \n",
    "        # değerleri float'a çevir\n",
    "        \n",
    "        inputs = inputs.astype(float)\n",
    "        output = self.sigmoid(np.dot(inputs, self.synaptic_weights))\n",
    "        return output\n",
    "\n",
    "\n",
    "if __name__ == \"__main__\":\n",
    "\n",
    "    # nöron sınıfını ilklendir\n",
    "    neural_network = NeuralNetwork()\n",
    "\n",
    "    print(\"Başlangıçtaki Rastgele Sinaps Ağırlıkları: \")\n",
    "    print(neural_network.synaptic_weights)\n",
    "\n",
    "    # eğitim verisi 3 giriş ve 1 çıkış'tan oluşmakta\n",
    "    training_inputs = np.array([[0,0,1],\n",
    "                                [1,1,1],\n",
    "                                [1,0,1],\n",
    "                                [0,1,1]])\n",
    "\n",
    "    training_outputs = np.array([[0,1,1,0]]).T\n",
    "\n",
    "    # eğitim gerçekleştirilmekte\n",
    "    neural_network.train(training_inputs, training_outputs, 15000)\n",
    "\n",
    "    print(\"Eğitimin Ardından Ağırlık Değerleri: \")\n",
    "    print(neural_network.synaptic_weights)\n",
    "\n",
    "    user_input_one = str(input(\"Kullanıcı Girdisi 1: \"))\n",
    "    user_input_two = str(input(\"Kullanıcı Girdisi 2: \"))\n",
    "    user_input_three = str(input(\"Kullanıcı Girdisi 3: \"))\n",
    "    \n",
    "    print(\"Yeni Durum Ele Alınıyor: \", user_input_one, user_input_two, user_input_three)\n",
    "    print(\"Yeni Çıktı: \")\n",
    "    print(neural_network.think(np.array([user_input_one, user_input_two, user_input_three])))\n",
    "    print(\"Vay be, başardık!\")"
   ]
  },
  {
   "cell_type": "code",
   "execution_count": null,
   "metadata": {},
   "outputs": [],
   "source": []
  }
 ],
 "metadata": {
  "kernelspec": {
   "display_name": "Python 3",
   "language": "python",
   "name": "python3"
  },
  "language_info": {
   "codemirror_mode": {
    "name": "ipython",
    "version": 3
   },
   "file_extension": ".py",
   "mimetype": "text/x-python",
   "name": "python",
   "nbconvert_exporter": "python",
   "pygments_lexer": "ipython3",
   "version": "3.8.5"
  }
 },
 "nbformat": 4,
 "nbformat_minor": 4
}
