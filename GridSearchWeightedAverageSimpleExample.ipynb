{
 "cells": [
  {
   "cell_type": "code",
   "execution_count": 21,
   "metadata": {},
   "outputs": [
    {
     "data": {
      "text/plain": [
       "<matplotlib.collections.PathCollection at 0x1ef5b0b5130>"
      ]
     },
     "execution_count": 21,
     "metadata": {},
     "output_type": "execute_result"
    },
    {
     "data": {
      "image/png": "[encoded data removed]",
      "text/plain": [
       "<Figure size 432x288 with 1 Axes>"
      ]
     },
     "metadata": {
      "needs_background": "light"
     },
     "output_type": "display_data"
    }
   ],
   "source": [
    "import matplotlib.pyplot as plt\n",
    "import numpy as np\n",
    "import pandas as pd\n",
    "\n",
    "def amacHesapla1(x, y):\n",
    "    return x**2 + y**2\n",
    "\n",
    "def amacHesapla2(x, y):\n",
    "    return (x-5)**2 + (y-5)**2\n",
    "\n",
    "def izgaraAramaAgirliklandirilmisToplam( x_alt, x_ust, y_alt, y_ust, x_adim, y_adim, w):\n",
    "    arr = np.arange(x_alt, x_ust, x_adim)\n",
    "    arr2 = np.arange(y_alt, y_ust, y_adim)\n",
    "    \n",
    "    f1_values = []\n",
    "    f2_values = []\n",
    "    weighted_sums_array = []\n",
    "    x_coordinates = []\n",
    "    y_coordinates = []\n",
    "    \n",
    "    for i in arr:\n",
    "        for j in arr2:\n",
    "            f1_values.append(amacHesapla1(i, j))\n",
    "            f2_values.append(amacHesapla2(i, j))\n",
    "            weighted_sum = (w * amacHesapla1(i, j)) + ((1-w)*amacHesapla2(i, j))\n",
    "            weighted_sums_array.append(weighted_sum)\n",
    "            x_coordinates.append(i)\n",
    "            y_coordinates.append(j)\n",
    "            \n",
    "            \n",
    "    return f1_values, f2_values, weighted_sums_array, x_coordinates, y_coordinates\n",
    "\n",
    "def izgaraAramaChebychevSkalarizasyon( x_alt, x_ust, y_alt, y_ust, x_adim, y_adim, w):\n",
    "    arr = np.arange(x_alt, x_ust, x_adim)\n",
    "    arr2 = np.arange(y_alt, y_ust, y_adim)\n",
    "    \n",
    "    f1_values = []\n",
    "    f2_values = []\n",
    "    weighted_sums_array = []\n",
    "    x_coordinates = []\n",
    "    y_coordinates = []\n",
    "    \n",
    "    for i in arr:\n",
    "        for j in arr2:\n",
    "            f1_values.append(amacHesapla1(i, j))\n",
    "            f2_values.append(amacHesapla2(i, j))\n",
    "            weighted_sum = max([(w * amacHesapla1(i, j)), ((1-w)*amacHesapla2(i, j))])\n",
    "            weighted_sums_array.append(weighted_sum)\n",
    "            x_coordinates.append(i)\n",
    "            y_coordinates.append(j)\n",
    "            \n",
    "            \n",
    "    return f1_values, f2_values, weighted_sums_array, x_coordinates, y_coordinates\n",
    "\n",
    "# f1, f2, weighted_sums, x_coor, y_coor = izgaraAramaAgirliklandirilmisToplam(-10, 10, -10, 10, 0.2, 0.2, 0.2)\n",
    "f1, f2, weighted_sums, x_coor, y_coor = izgaraAramaChebychevSkalarizasyon(-10, 10, -10, 10, 0.2, 0.2, 0.2)\n",
    "\n",
    "df = pd.DataFrame([x_coor, y_coor, weighted_sums])\n",
    "\n",
    "plt.scatter(f1,f2)\n",
    "\n"
   ]
  },
  {
   "cell_type": "code",
   "execution_count": 22,
   "metadata": {},
   "outputs": [],
   "source": [
    "dfT = df.T"
   ]
  },
  {
   "cell_type": "code",
   "execution_count": 23,
   "metadata": {},
   "outputs": [
    {
     "data": {
      "text/html": [
       "<div>\n",
       "<style scoped>\n",
       "    .dataframe tbody tr th:only-of-type {\n",
       "        vertical-align: middle;\n",
       "    }\n",
       "\n",
       "    .dataframe tbody tr th {\n",
       "        vertical-align: top;\n",
       "    }\n",
       "\n",
       "    .dataframe thead th {\n",
       "        text-align: right;\n",
       "    }\n",
       "</style>\n",
       "<table border=\"1\" class=\"dataframe\">\n",
       "  <thead>\n",
       "    <tr style=\"text-align: right;\">\n",
       "      <th></th>\n",
       "      <th>0</th>\n",
       "      <th>1</th>\n",
       "      <th>2</th>\n",
       "    </tr>\n",
       "  </thead>\n",
       "  <tbody>\n",
       "    <tr>\n",
       "      <th>6767</th>\n",
       "      <td>3.4</td>\n",
       "      <td>3.4</td>\n",
       "      <td>4.624</td>\n",
       "    </tr>\n",
       "  </tbody>\n",
       "</table>\n",
       "</div>"
      ],
      "text/plain": [
       "        0    1      2\n",
       "6767  3.4  3.4  4.624"
      ]
     },
     "execution_count": 23,
     "metadata": {},
     "output_type": "execute_result"
    }
   ],
   "source": [
    "dfT[dfT[2] == dfT[2].min()]"
   ]
  },
  {
   "cell_type": "code",
   "execution_count": null,
   "metadata": {},
   "outputs": [],
   "source": []
  }
 ],
 "metadata": {
  "kernelspec": {
   "display_name": "Python 3",
   "language": "python",
   "name": "python3"
  },
  "language_info": {
   "codemirror_mode": {
    "name": "ipython",
    "version": 3
   },
   "file_extension": ".py",
   "mimetype": "text/x-python",
   "name": "python",
   "nbconvert_exporter": "python",
   "pygments_lexer": "ipython3",
   "version": "3.8.5"
  }
 },
 "nbformat": 4,
 "nbformat_minor": 4
}
